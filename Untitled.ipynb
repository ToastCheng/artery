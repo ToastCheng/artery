{
 "cells": [
  {
   "cell_type": "code",
   "execution_count": 6,
   "metadata": {},
   "outputs": [],
   "source": [
    "import pandas as pd \n",
    "import matplotlib.pyplot as plt \n",
    "%matplotlib inline"
   ]
  },
  {
   "cell_type": "code",
   "execution_count": 2,
   "metadata": {},
   "outputs": [],
   "source": [
    "df = pd.read_csv(\"input/coefficients.csv\")"
   ]
  },
  {
   "cell_type": "code",
   "execution_count": 3,
   "metadata": {},
   "outputs": [
    {
     "data": {
      "text/html": [
       "<div>\n",
       "<style scoped>\n",
       "    .dataframe tbody tr th:only-of-type {\n",
       "        vertical-align: middle;\n",
       "    }\n",
       "\n",
       "    .dataframe tbody tr th {\n",
       "        vertical-align: top;\n",
       "    }\n",
       "\n",
       "    .dataframe thead th {\n",
       "        text-align: right;\n",
       "    }\n",
       "</style>\n",
       "<table border=\"1\" class=\"dataframe\">\n",
       "  <thead>\n",
       "    <tr style=\"text-align: right;\">\n",
       "      <th></th>\n",
       "      <th>wavelength</th>\n",
       "      <th>oxy</th>\n",
       "      <th>deoxy</th>\n",
       "      <th>water</th>\n",
       "      <th>fat</th>\n",
       "      <th>collagen</th>\n",
       "      <th>mel</th>\n",
       "      <th>musp</th>\n",
       "    </tr>\n",
       "  </thead>\n",
       "  <tbody>\n",
       "    <tr>\n",
       "      <th>0</th>\n",
       "      <td>650</td>\n",
       "      <td>1.9706</td>\n",
       "      <td>20.081</td>\n",
       "      <td>0.003200</td>\n",
       "      <td>0.0001</td>\n",
       "      <td>0.07520</td>\n",
       "      <td>283.49</td>\n",
       "      <td>22.209</td>\n",
       "    </tr>\n",
       "    <tr>\n",
       "      <th>1</th>\n",
       "      <td>651</td>\n",
       "      <td>1.9406</td>\n",
       "      <td>19.794</td>\n",
       "      <td>0.003238</td>\n",
       "      <td>0.0001</td>\n",
       "      <td>0.07405</td>\n",
       "      <td>282.04</td>\n",
       "      <td>22.132</td>\n",
       "    </tr>\n",
       "    <tr>\n",
       "      <th>2</th>\n",
       "      <td>652</td>\n",
       "      <td>1.9106</td>\n",
       "      <td>19.506</td>\n",
       "      <td>0.003276</td>\n",
       "      <td>0.0001</td>\n",
       "      <td>0.07290</td>\n",
       "      <td>280.61</td>\n",
       "      <td>22.055</td>\n",
       "    </tr>\n",
       "    <tr>\n",
       "      <th>3</th>\n",
       "      <td>653</td>\n",
       "      <td>1.8806</td>\n",
       "      <td>19.218</td>\n",
       "      <td>0.003314</td>\n",
       "      <td>0.0001</td>\n",
       "      <td>0.07175</td>\n",
       "      <td>279.18</td>\n",
       "      <td>21.978</td>\n",
       "    </tr>\n",
       "    <tr>\n",
       "      <th>4</th>\n",
       "      <td>654</td>\n",
       "      <td>1.8506</td>\n",
       "      <td>18.930</td>\n",
       "      <td>0.003352</td>\n",
       "      <td>0.0001</td>\n",
       "      <td>0.07060</td>\n",
       "      <td>277.76</td>\n",
       "      <td>21.902</td>\n",
       "    </tr>\n",
       "  </tbody>\n",
       "</table>\n",
       "</div>"
      ],
      "text/plain": [
       "   wavelength     oxy   deoxy     water     fat  collagen     mel    musp\n",
       "0         650  1.9706  20.081  0.003200  0.0001   0.07520  283.49  22.209\n",
       "1         651  1.9406  19.794  0.003238  0.0001   0.07405  282.04  22.132\n",
       "2         652  1.9106  19.506  0.003276  0.0001   0.07290  280.61  22.055\n",
       "3         653  1.8806  19.218  0.003314  0.0001   0.07175  279.18  21.978\n",
       "4         654  1.8506  18.930  0.003352  0.0001   0.07060  277.76  21.902"
      ]
     },
     "execution_count": 3,
     "metadata": {},
     "output_type": "execute_result"
    }
   ],
   "source": [
    "df.head()"
   ]
  },
  {
   "cell_type": "code",
   "execution_count": 7,
   "metadata": {},
   "outputs": [
    {
     "data": {
      "text/plain": [
       "<matplotlib.axes._subplots.AxesSubplot at 0x1183fdc50>"
      ]
     },
     "execution_count": 7,
     "metadata": {},
     "output_type": "execute_result"
    },
    {
     "data": {
      "image/png": "[encoded data removed]",
      "text/plain": [
       "<Figure size 432x288 with 1 Axes>"
      ]
     },
     "metadata": {},
     "output_type": "display_data"
    }
   ],
   "source": [
    "df[\"fat\"].plot()"
   ]
  },
  {
   "cell_type": "code",
   "execution_count": 9,
   "metadata": {},
   "outputs": [],
   "source": [
    "import numpy as np \n",
    "df2 = pd.read_csv(\"input/fat_parameters.csv\", sep=\"\\t\")\n",
    "df2.head()\n",
    "wl = df2[\"nm\"].tolist()\n",
    "mua = df2[\"mu_a(1/cm)\"].tolist()"
   ]
  },
  {
   "cell_type": "code",
   "execution_count": 16,
   "metadata": {},
   "outputs": [],
   "source": [
    "wavelength = [i for i in range(650, 1001 , 1)]"
   ]
  },
  {
   "cell_type": "code",
   "execution_count": 17,
   "metadata": {},
   "outputs": [],
   "source": [
    "fat_mua = np.interp(wavelength, wl, mua)"
   ]
  },
  {
   "cell_type": "code",
   "execution_count": 18,
   "metadata": {},
   "outputs": [
    {
     "data": {
      "text/plain": [
       "((351, 8), 351)"
      ]
     },
     "execution_count": 18,
     "metadata": {},
     "output_type": "execute_result"
    },
    {
     "data": {
      "image/png": "[encoded data removed]",
      "text/plain": [
       "<Figure size 432x288 with 1 Axes>"
      ]
     },
     "metadata": {},
     "output_type": "display_data"
    }
   ],
   "source": [
    "plt.plot(fat_mua)\n",
    "df.shape, len(fat_mua)"
   ]
  },
  {
   "cell_type": "code",
   "execution_count": 20,
   "metadata": {},
   "outputs": [],
   "source": [
    "df[\"fat\"] = fat_mua"
   ]
  },
  {
   "cell_type": "code",
   "execution_count": 23,
   "metadata": {},
   "outputs": [],
   "source": [
    "df.to_csv(\"input/coefficients.csv\")"
   ]
  },
  {
   "cell_type": "code",
   "execution_count": 24,
   "metadata": {},
   "outputs": [
    {
     "data": {
      "text/plain": [
       "22.96666666666667"
      ]
     },
     "execution_count": 24,
     "metadata": {},
     "output_type": "execute_result"
    }
   ],
   "source": [
    "(27.7+22.5+18.7)/3"
   ]
  },
  {
   "cell_type": "code",
   "execution_count": 25,
   "metadata": {},
   "outputs": [
    {
     "data": {
      "text/plain": [
       "array([[ 1,  0],\n",
       "       [ 2, -1],\n",
       "       [ 3, -2]])"
      ]
     },
     "execution_count": 25,
     "metadata": {},
     "output_type": "execute_result"
    }
   ],
   "source": [
    "df = pd.DataFrame({'a': [1,2,3], 'b': [0, -1, -2]})\n",
    "df.values"
   ]
  },
  {
   "cell_type": "code",
   "execution_count": 26,
   "metadata": {},
   "outputs": [
    {
     "name": "stdout",
     "output_type": "stream",
     "text": [
      "1 0\n",
      "2 -1\n",
      "3 -2\n"
     ]
    }
   ],
   "source": [
    "for i, j in df.values:\n",
    "    print(i, j)"
   ]
  },
  {
   "cell_type": "code",
   "execution_count": 31,
   "metadata": {},
   "outputs": [],
   "source": [
    "n = np.array([[1,2,3],[4,5,6]])"
   ]
  },
  {
   "cell_type": "code",
   "execution_count": 32,
   "metadata": {},
   "outputs": [
    {
     "data": {
      "text/plain": [
       "(2, 3)"
      ]
     },
     "execution_count": 32,
     "metadata": {},
     "output_type": "execute_result"
    }
   ],
   "source": [
    "n.shape"
   ]
  },
  {
   "cell_type": "code",
   "execution_count": 33,
   "metadata": {},
   "outputs": [
    {
     "data": {
      "text/plain": [
       "(2, 2, 3)"
      ]
     },
     "execution_count": 33,
     "metadata": {},
     "output_type": "execute_result"
    }
   ],
   "source": [
    "nn = [n, n]\n",
    "np.asarray(nn).shape"
   ]
  },
  {
   "cell_type": "code",
   "execution_count": null,
   "metadata": {},
   "outputs": [],
   "source": []
  }
 ],
 "metadata": {
  "kernelspec": {
   "display_name": "Python 3",
   "language": "python",
   "name": "python3"
  },
  "language_info": {
   "codemirror_mode": {
    "name": "ipython",
    "version": 3
   },
   "file_extension": ".py",
   "mimetype": "text/x-python",
   "name": "python",
   "nbconvert_exporter": "python",
   "pygments_lexer": "ipython3",
   "version": "3.6.3"
  }
 },
 "nbformat": 4,
 "nbformat_minor": 2
}
